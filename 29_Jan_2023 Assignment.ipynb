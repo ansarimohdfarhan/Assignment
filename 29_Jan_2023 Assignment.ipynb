{
 "cells": [
  {
   "cell_type": "code",
   "execution_count": 2,
   "id": "1fe12cfd-92df-46ed-9557-49b8c3cba6a5",
   "metadata": {},
   "outputs": [
    {
     "data": {
      "text/plain": [
       "'Aswer 1 : Guido van Rossum'"
      ]
     },
     "execution_count": 2,
     "metadata": {},
     "output_type": "execute_result"
    }
   ],
   "source": [
    "\"\"\"Aswer 1 : Guido van Rossum, developed python programming Language\"\"\""
   ]
  },
  {
   "cell_type": "code",
   "execution_count": 1,
   "id": "d75028df-a551-480d-8b86-dcf91a964399",
   "metadata": {},
   "outputs": [
    {
     "data": {
      "text/plain": [
       "'Answer 2 : Python supports multiple programming paradigms, including:\\nObject-Oriented Programming (OOP),\\nFunctional Programming,\\nProcedural Programming,\\nImperative Programming'"
      ]
     },
     "execution_count": 1,
     "metadata": {},
     "output_type": "execute_result"
    }
   ],
   "source": [
    "\"\"\"Answer 2 : Python supports multiple programming paradigms, including:\n",
    "Object-Oriented Programming (OOP),\n",
    "Functional Programming,\n",
    "Procedural Programming,\n",
    "Imperative Programming\"\"\""
   ]
  },
  {
   "cell_type": "code",
   "execution_count": 4,
   "id": "54c9714f-2019-4bdf-a0d4-c6ec146d4383",
   "metadata": {},
   "outputs": [
    {
     "data": {
      "text/plain": [
       "'Answer 3 : yes'"
      ]
     },
     "execution_count": 4,
     "metadata": {},
     "output_type": "execute_result"
    }
   ],
   "source": [
    "\"\"\"Answer 3 : yes, Python is a case sensitive\"\"\""
   ]
  },
  {
   "cell_type": "code",
   "execution_count": 8,
   "id": "a65d62f6-f3dc-45c5-b91f-4984ba0c0b4c",
   "metadata": {},
   "outputs": [
    {
     "data": {
      "text/plain": [
       "'Answer 4 : .py '"
      ]
     },
     "execution_count": 8,
     "metadata": {},
     "output_type": "execute_result"
    }
   ],
   "source": [
    "\"\"\"Answer 4 : .py is an extention of Python\"\"\""
   ]
  },
  {
   "cell_type": "code",
   "execution_count": 9,
   "id": "37ada3ca-3419-49a6-82da-bc3ad3c28cd6",
   "metadata": {},
   "outputs": [
    {
     "data": {
      "text/plain": [
       "'Answer 5 : interpreted'"
      ]
     },
     "execution_count": 9,
     "metadata": {},
     "output_type": "execute_result"
    }
   ],
   "source": [
    "\"\"\"Answer 5 : Python is interpreted\"\"\""
   ]
  },
  {
   "cell_type": "code",
   "execution_count": 10,
   "id": "5476a7b0-59c0-4062-836a-4e5d7bf41d4c",
   "metadata": {},
   "outputs": [
    {
     "data": {
      "text/plain": [
       "'Answer 6 : indentation'"
      ]
     },
     "execution_count": 10,
     "metadata": {},
     "output_type": "execute_result"
    }
   ],
   "source": [
    "\"\"\"Answer 6 : indentation used to define a block of code in python\"\"\""
   ]
  },
  {
   "cell_type": "code",
   "execution_count": 11,
   "id": "71ebb231-2710-43b2-b1e3-5cce70e38338",
   "metadata": {},
   "outputs": [
    {
     "data": {
      "text/plain": [
       "'Answer 7 : # is used to give single line comments in python'"
      ]
     },
     "execution_count": 11,
     "metadata": {},
     "output_type": "execute_result"
    }
   ],
   "source": [
    "\"\"\"Answer 7 : # is used to give single line comments in python\"\"\""
   ]
  },
  {
   "cell_type": "code",
   "execution_count": 21,
   "id": "714ae9df-eaa8-4ff7-a92e-c7d814b3f98b",
   "metadata": {},
   "outputs": [
    {
     "data": {
      "text/plain": [
       "'Answer 8 : from platform import python_version\\n              python version\\n              using this function we can get a python version in a jupiter note book'"
      ]
     },
     "execution_count": 21,
     "metadata": {},
     "output_type": "execute_result"
    }
   ],
   "source": [
    "\"\"\"Answer 8 : from platform import python_version\n",
    "              python version\n",
    "              using this function we can get a python version in a jupiter note book\"\"\""
   ]
  },
  {
   "cell_type": "code",
   "execution_count": 22,
   "id": "b4414bb3-39a0-4e15-ac27-2fca2ae7a2db",
   "metadata": {},
   "outputs": [
    {
     "data": {
      "text/plain": [
       "'Answer 9 : lambda '"
      ]
     },
     "execution_count": 22,
     "metadata": {},
     "output_type": "execute_result"
    }
   ],
   "source": [
    "\"\"\"Answer 9 : lambda \"\"\""
   ]
  },
  {
   "cell_type": "code",
   "execution_count": 23,
   "id": "2a5a86b1-47f1-4ea6-91af-ffb0533584aa",
   "metadata": {},
   "outputs": [
    {
     "data": {
      "text/plain": [
       "'Answer 10 : pip stand for preferred installer program'"
      ]
     },
     "execution_count": 23,
     "metadata": {},
     "output_type": "execute_result"
    }
   ],
   "source": [
    "\"\"\"Answer 10 : pip stand for preferred installer program\"\"\""
   ]
  },
  {
   "cell_type": "code",
   "execution_count": 24,
   "id": "b70f0a06-9c36-4e31-9157-69c1a2ca9c5c",
   "metadata": {},
   "outputs": [
    {
     "data": {
      "text/plain": [
       "'Answer 11 : some of the build-in function in python are Append, remove, extend, pop etc'"
      ]
     },
     "execution_count": 24,
     "metadata": {},
     "output_type": "execute_result"
    }
   ],
   "source": [
    "\"\"\"Answer 11 : some of the build-in function in python are Append, remove, extend, pop etc\"\"\""
   ]
  },
  {
   "cell_type": "code",
   "execution_count": 25,
   "id": "a72f31d8-20d2-4d26-908e-4685926a5889",
   "metadata": {},
   "outputs": [
    {
     "data": {
      "text/plain": [
       "'Answer 12 : 79 is the maximum possible length of an identifier in python'"
      ]
     },
     "execution_count": 25,
     "metadata": {},
     "output_type": "execute_result"
    }
   ],
   "source": [
    "\"\"\"Answer 12 : 79 is the maximum possible length of an identifier in python\"\"\""
   ]
  },
  {
   "cell_type": "code",
   "execution_count": 28,
   "id": "44dfe348-fcbf-42d9-b7e0-af58ec9013f1",
   "metadata": {},
   "outputs": [
    {
     "data": {
      "text/plain": [
       "'Answer 13 : beneifts of using python are one can develope a application using python like \\nweb development, \\nfinance and trading, \\nsystem automation and administration, \\nbasic games development, \\nsecurity and penetration testing \\n\\nalso widley used in \\ndata analysis, \\ndata science, \\nmachine learning'"
      ]
     },
     "execution_count": 28,
     "metadata": {},
     "output_type": "execute_result"
    }
   ],
   "source": [
    "\"\"\"Answer 13 : beneifts of using python are one can develope a application using python like \n",
    "web development, \n",
    "finance and trading, \n",
    "system automation and administration, \n",
    "basic games development, \n",
    "security and penetration testing \n",
    "\n",
    "also widley used in \n",
    "data analysis, \n",
    "data science, \n",
    "machine learning\"\"\""
   ]
  },
  {
   "cell_type": "code",
   "execution_count": 30,
   "id": "6e71a9d2-bac2-42e2-ab6e-2d8ea83e90e8",
   "metadata": {},
   "outputs": [
    {
     "data": {
      "text/plain": [
       "' Answer 14 : Memory management in Python involves a private heap containing all Python objects and data structures. The management of this private heap is ensured internally by the Python memory manager'"
      ]
     },
     "execution_count": 30,
     "metadata": {},
     "output_type": "execute_result"
    }
   ],
   "source": [
    "\"\"\" Answer 14 : Memory management in Python involves a private heap containing all Python objects and data structures. The management of this private heap is ensured internally by the Python memory manager\"\"\""
   ]
  },
  {
   "cell_type": "code",
   "execution_count": 31,
   "id": "cb49455b-2ae2-4314-88a8-3c4147fec99d",
   "metadata": {},
   "outputs": [
    {
     "data": {
      "text/plain": [
       "' ANswer 15 : firstly need to install python.exe \\nafter installation is completed then follow smoe step mention below\\n\\nRight-clicking This PC and going to Properties.\\n\\nClicking on the Advanced system settings in the menu on the left.\\n\\nClicking on the Environment Variables button on the bottom right.\\n\\nIn the System variables section, selecting the Path variable and clicking on Edit. The next screen will show all the directories that are currently a part of the PATH variable.\\n\\nClicking on New and entering Python’s install directory.'"
      ]
     },
     "execution_count": 31,
     "metadata": {},
     "output_type": "execute_result"
    }
   ],
   "source": [
    "\"\"\" ANswer 15 : firstly need to install python.exe \n",
    "after installation is completed then follow smoe step mention below\n",
    "\n",
    "Right-clicking This PC and going to Properties.\n",
    "\n",
    "Clicking on the Advanced system settings in the menu on the left.\n",
    "\n",
    "Clicking on the Environment Variables button on the bottom right.\n",
    "\n",
    "In the System variables section, selecting the Path variable and clicking on Edit. The next screen will show all the directories that are currently a part of the PATH variable.\n",
    "\n",
    "Clicking on New and entering Python’s install directory.\"\"\"\n"
   ]
  },
  {
   "cell_type": "code",
   "execution_count": 32,
   "id": "7dbb2d9b-a554-46a8-83d0-29386498ed35",
   "metadata": {},
   "outputs": [
    {
     "data": {
      "text/plain": [
       "'Answer 16 : yes, indentation is required in python'"
      ]
     },
     "execution_count": 32,
     "metadata": {},
     "output_type": "execute_result"
    }
   ],
   "source": [
    "\"\"\"Answer 16 : yes, indentation is required in python\"\"\""
   ]
  },
  {
   "cell_type": "code",
   "execution_count": null,
   "id": "4eee1c38-22ec-4441-ab6d-bd3fff6dccc6",
   "metadata": {},
   "outputs": [],
   "source": []
  }
 ],
 "metadata": {
  "kernelspec": {
   "display_name": "Python 3 (ipykernel)",
   "language": "python",
   "name": "python3"
  },
  "language_info": {
   "codemirror_mode": {
    "name": "ipython",
    "version": 3
   },
   "file_extension": ".py",
   "mimetype": "text/x-python",
   "name": "python",
   "nbconvert_exporter": "python",
   "pygments_lexer": "ipython3",
   "version": "3.10.8"
  }
 },
 "nbformat": 4,
 "nbformat_minor": 5
}
